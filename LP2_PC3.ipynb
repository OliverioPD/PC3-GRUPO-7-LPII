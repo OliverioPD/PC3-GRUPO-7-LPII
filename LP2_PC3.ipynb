{
 "cells": [
  {
   "attachments": {},
   "cell_type": "markdown",
   "metadata": {},
   "source": [
    "<h1 style=\"text-align: center\">\n",
    "<strong>UNALM: PRÁCTICA CALIFICADA 3 - API Spoonacular</strong>\n",
    "</h1>\n",
    "\n",
    "**INTEGRANTES:**\n",
    "1. Pichardo Diestra, Oliverio\n",
    "2. Ortiz Arone, Víctor Alejandro\n",
    "3. Llamoca León, Israel\n",
    "4. Quispe Cueva, Jorge Antonio\n",
    "\n",
    "**GRUPO:** 7"
   ]
  },
  {
   "attachments": {},
   "cell_type": "markdown",
   "metadata": {},
   "source": [
    "# 1. DESCRIPCIÓN DE LA API\n",
    "API de Spoonacular es un servicio web que ofrece una variedad de funciones relacionadas con la cocina y los alimentos. Algunas de las funciones que se ofrecen a través de la API incluyen la búsqueda de recetas, la búsqueda de ingredientes, la generación de menús y la generación de listas de compras. Los desarrolladores pueden utilizar la API para integrar estas funciones en sus propias aplicaciones y sitios web."
   ]
  },
  {
   "attachments": {},
   "cell_type": "markdown",
   "metadata": {},
   "source": [
    "# 2. LIBRERÍAS, MÓDULOS Y PAQUETES\n",
    "A fin de realizar la extracción de datos pertinentes, se emplearán las siguientes librerías, módulos o paquetes:"
   ]
  },
  {
   "cell_type": "code",
   "execution_count": 1,
   "metadata": {},
   "outputs": [],
   "source": [
    "# %pip install matplotlib.pyplot\n",
    "import requests # hacer peticiones HTTP a servidores web\n",
    "import pandas as pd \n",
    "import matplotlib.pyplot as plt"
   ]
  },
  {
   "attachments": {},
   "cell_type": "markdown",
   "metadata": {},
   "source": [
    "# 2. EXTRACCIÓN DE LA INFORMACIÓN\n",
    "A continuación se procederá a extraer la información de la recetas similares a una receta dada."
   ]
  },
  {
   "cell_type": "code",
   "execution_count": 2,
   "metadata": {},
   "outputs": [
    {
     "data": {
      "text/plain": [
       "[{'id': 456541,\n",
       "  'imageType': 'jpg',\n",
       "  'title': 'Spiced Apples',\n",
       "  'readyInMinutes': 45,\n",
       "  'servings': 8,\n",
       "  'sourceUrl': 'http://allrecipes.com/Recipe/Spiced-Apples/'},\n",
       " {'id': 403407,\n",
       "  'imageType': 'jpg',\n",
       "  'title': 'Glazed Spiced Apples',\n",
       "  'readyInMinutes': 25,\n",
       "  'servings': 10,\n",
       "  'sourceUrl': 'http://www.tasteofhome.com/recipes/glazed-spiced-apples'},\n",
       " {'id': 48263,\n",
       "  'imageType': 'jpg',\n",
       "  'title': 'Chicken & Spiced Apples',\n",
       "  'readyInMinutes': 35,\n",
       "  'servings': 6,\n",
       "  'sourceUrl': 'http://www.eatingwell.com/recipes/chicken_spiced_apples.html'},\n",
       " {'id': 313917,\n",
       "  'imageType': 'jpeg',\n",
       "  'title': 'Spiced Apples and Raisins',\n",
       "  'readyInMinutes': 38,\n",
       "  'servings': 4,\n",
       "  'sourceUrl': 'http://www.foodnetwork.com/recipes/tyler-florence/spiced-apples-and-raisins-recipe.html'},\n",
       " {'id': 403413,\n",
       "  'imageType': 'jpg',\n",
       "  'title': 'Spiced Baked Apples',\n",
       "  'readyInMinutes': 45,\n",
       "  'servings': 2,\n",
       "  'sourceUrl': 'http://www.tasteofhome.com/Recipes/spiced-baked-apples'},\n",
       " {'id': 586610,\n",
       "  'imageType': 'jpg',\n",
       "  'title': 'Vanilla Spiced Apples',\n",
       "  'readyInMinutes': 35,\n",
       "  'servings': 8,\n",
       "  'sourceUrl': 'http://www.nutmegnanny.com/2011/05/02/vanilla-spiced-apples/'},\n",
       " {'id': 930836,\n",
       "  'imageType': 'jpeg',\n",
       "  'title': 'Spiced Chicken with Apples',\n",
       "  'readyInMinutes': 40,\n",
       "  'servings': 4,\n",
       "  'sourceUrl': 'http://www.foodnetwork.com/recipes/food-network-kitchen/spiced-chicken-with-apples-3363966'},\n",
       " {'id': 151791,\n",
       "  'imageType': 'jpg',\n",
       "  'title': 'Spiced Waffles with Caramelized Apples',\n",
       "  'readyInMinutes': 45,\n",
       "  'servings': 4,\n",
       "  'sourceUrl': 'http://www.epicurious.com/recipes/food/views/Spiced-Waffles-with-Caramelized-Apples-234132'}]"
      ]
     },
     "execution_count": 2,
     "metadata": {},
     "output_type": "execute_result"
    }
   ],
   "source": [
    "# Clave de API de Spoonacular\n",
    "api_key = \"1a60313c31a84c6d80a50e336bd18421\"\n",
    "# ID de la receta de la que se desea encontrar recetas similares\n",
    "recipe_id = 47746\n",
    "# Realizar una llamada a la API para obtener recetas similares\n",
    "url = f\"https://api.spoonacular.com/recipes/{recipe_id}/similar\"\n",
    "query_params = {\"apiKey\": api_key}\n",
    "response = requests.get(url, params=query_params).json()\n",
    "response"
   ]
  },
  {
   "attachments": {},
   "cell_type": "markdown",
   "metadata": {},
   "source": [
    "Ahora, se procede a colocar todo en un dataframe."
   ]
  },
  {
   "cell_type": "code",
   "execution_count": 4,
   "metadata": {},
   "outputs": [
    {
     "data": {
      "text/html": [
       "<div>\n",
       "<style scoped>\n",
       "    .dataframe tbody tr th:only-of-type {\n",
       "        vertical-align: middle;\n",
       "    }\n",
       "\n",
       "    .dataframe tbody tr th {\n",
       "        vertical-align: top;\n",
       "    }\n",
       "\n",
       "    .dataframe thead th {\n",
       "        text-align: right;\n",
       "    }\n",
       "</style>\n",
       "<table border=\"1\" class=\"dataframe\">\n",
       "  <thead>\n",
       "    <tr style=\"text-align: right;\">\n",
       "      <th></th>\n",
       "      <th>id</th>\n",
       "      <th>imageType</th>\n",
       "      <th>title</th>\n",
       "      <th>readyInMinutes</th>\n",
       "      <th>servings</th>\n",
       "      <th>sourceUrl</th>\n",
       "    </tr>\n",
       "  </thead>\n",
       "  <tbody>\n",
       "    <tr>\n",
       "      <th>0</th>\n",
       "      <td>456541</td>\n",
       "      <td>jpg</td>\n",
       "      <td>Spiced Apples</td>\n",
       "      <td>45</td>\n",
       "      <td>8</td>\n",
       "      <td>http://allrecipes.com/Recipe/Spiced-Apples/</td>\n",
       "    </tr>\n",
       "    <tr>\n",
       "      <th>1</th>\n",
       "      <td>403407</td>\n",
       "      <td>jpg</td>\n",
       "      <td>Glazed Spiced Apples</td>\n",
       "      <td>25</td>\n",
       "      <td>10</td>\n",
       "      <td>http://www.tasteofhome.com/recipes/glazed-spic...</td>\n",
       "    </tr>\n",
       "    <tr>\n",
       "      <th>2</th>\n",
       "      <td>48263</td>\n",
       "      <td>jpg</td>\n",
       "      <td>Chicken &amp; Spiced Apples</td>\n",
       "      <td>35</td>\n",
       "      <td>6</td>\n",
       "      <td>http://www.eatingwell.com/recipes/chicken_spic...</td>\n",
       "    </tr>\n",
       "    <tr>\n",
       "      <th>3</th>\n",
       "      <td>313917</td>\n",
       "      <td>jpeg</td>\n",
       "      <td>Spiced Apples and Raisins</td>\n",
       "      <td>38</td>\n",
       "      <td>4</td>\n",
       "      <td>http://www.foodnetwork.com/recipes/tyler-flore...</td>\n",
       "    </tr>\n",
       "    <tr>\n",
       "      <th>4</th>\n",
       "      <td>403413</td>\n",
       "      <td>jpg</td>\n",
       "      <td>Spiced Baked Apples</td>\n",
       "      <td>45</td>\n",
       "      <td>2</td>\n",
       "      <td>http://www.tasteofhome.com/Recipes/spiced-bake...</td>\n",
       "    </tr>\n",
       "    <tr>\n",
       "      <th>5</th>\n",
       "      <td>586610</td>\n",
       "      <td>jpg</td>\n",
       "      <td>Vanilla Spiced Apples</td>\n",
       "      <td>35</td>\n",
       "      <td>8</td>\n",
       "      <td>http://www.nutmegnanny.com/2011/05/02/vanilla-...</td>\n",
       "    </tr>\n",
       "    <tr>\n",
       "      <th>6</th>\n",
       "      <td>930836</td>\n",
       "      <td>jpeg</td>\n",
       "      <td>Spiced Chicken with Apples</td>\n",
       "      <td>40</td>\n",
       "      <td>4</td>\n",
       "      <td>http://www.foodnetwork.com/recipes/food-networ...</td>\n",
       "    </tr>\n",
       "    <tr>\n",
       "      <th>7</th>\n",
       "      <td>151791</td>\n",
       "      <td>jpg</td>\n",
       "      <td>Spiced Waffles with Caramelized Apples</td>\n",
       "      <td>45</td>\n",
       "      <td>4</td>\n",
       "      <td>http://www.epicurious.com/recipes/food/views/S...</td>\n",
       "    </tr>\n",
       "  </tbody>\n",
       "</table>\n",
       "</div>"
      ],
      "text/plain": [
       "       id imageType                                   title  readyInMinutes  \\\n",
       "0  456541       jpg                           Spiced Apples              45   \n",
       "1  403407       jpg                    Glazed Spiced Apples              25   \n",
       "2   48263       jpg                 Chicken & Spiced Apples              35   \n",
       "3  313917      jpeg               Spiced Apples and Raisins              38   \n",
       "4  403413       jpg                     Spiced Baked Apples              45   \n",
       "5  586610       jpg                   Vanilla Spiced Apples              35   \n",
       "6  930836      jpeg              Spiced Chicken with Apples              40   \n",
       "7  151791       jpg  Spiced Waffles with Caramelized Apples              45   \n",
       "\n",
       "   servings                                          sourceUrl  \n",
       "0         8        http://allrecipes.com/Recipe/Spiced-Apples/  \n",
       "1        10  http://www.tasteofhome.com/recipes/glazed-spic...  \n",
       "2         6  http://www.eatingwell.com/recipes/chicken_spic...  \n",
       "3         4  http://www.foodnetwork.com/recipes/tyler-flore...  \n",
       "4         2  http://www.tasteofhome.com/Recipes/spiced-bake...  \n",
       "5         8  http://www.nutmegnanny.com/2011/05/02/vanilla-...  \n",
       "6         4  http://www.foodnetwork.com/recipes/food-networ...  \n",
       "7         4  http://www.epicurious.com/recipes/food/views/S...  "
      ]
     },
     "execution_count": 4,
     "metadata": {},
     "output_type": "execute_result"
    }
   ],
   "source": [
    "df = pd.DataFrame(response)\n",
    "df"
   ]
  },
  {
   "attachments": {},
   "cell_type": "markdown",
   "metadata": {},
   "source": [
    "Transformemos las variables *readyInMinutes* en proporciones."
   ]
  },
  {
   "cell_type": "code",
   "execution_count": 5,
   "metadata": {},
   "outputs": [
    {
     "data": {
      "text/html": [
       "<div>\n",
       "<style scoped>\n",
       "    .dataframe tbody tr th:only-of-type {\n",
       "        vertical-align: middle;\n",
       "    }\n",
       "\n",
       "    .dataframe tbody tr th {\n",
       "        vertical-align: top;\n",
       "    }\n",
       "\n",
       "    .dataframe thead th {\n",
       "        text-align: right;\n",
       "    }\n",
       "</style>\n",
       "<table border=\"1\" class=\"dataframe\">\n",
       "  <thead>\n",
       "    <tr style=\"text-align: right;\">\n",
       "      <th></th>\n",
       "      <th>id</th>\n",
       "      <th>imageType</th>\n",
       "      <th>title</th>\n",
       "      <th>readyInMinutes</th>\n",
       "      <th>servings</th>\n",
       "      <th>sourceUrl</th>\n",
       "      <th>readyInMinutes_perc</th>\n",
       "    </tr>\n",
       "  </thead>\n",
       "  <tbody>\n",
       "    <tr>\n",
       "      <th>0</th>\n",
       "      <td>456541</td>\n",
       "      <td>jpg</td>\n",
       "      <td>Spiced Apples</td>\n",
       "      <td>45</td>\n",
       "      <td>8</td>\n",
       "      <td>http://allrecipes.com/Recipe/Spiced-Apples/</td>\n",
       "      <td>14.610390</td>\n",
       "    </tr>\n",
       "    <tr>\n",
       "      <th>1</th>\n",
       "      <td>403407</td>\n",
       "      <td>jpg</td>\n",
       "      <td>Glazed Spiced Apples</td>\n",
       "      <td>25</td>\n",
       "      <td>10</td>\n",
       "      <td>http://www.tasteofhome.com/recipes/glazed-spic...</td>\n",
       "      <td>8.116883</td>\n",
       "    </tr>\n",
       "    <tr>\n",
       "      <th>2</th>\n",
       "      <td>48263</td>\n",
       "      <td>jpg</td>\n",
       "      <td>Chicken &amp; Spiced Apples</td>\n",
       "      <td>35</td>\n",
       "      <td>6</td>\n",
       "      <td>http://www.eatingwell.com/recipes/chicken_spic...</td>\n",
       "      <td>11.363636</td>\n",
       "    </tr>\n",
       "    <tr>\n",
       "      <th>3</th>\n",
       "      <td>313917</td>\n",
       "      <td>jpeg</td>\n",
       "      <td>Spiced Apples and Raisins</td>\n",
       "      <td>38</td>\n",
       "      <td>4</td>\n",
       "      <td>http://www.foodnetwork.com/recipes/tyler-flore...</td>\n",
       "      <td>12.337662</td>\n",
       "    </tr>\n",
       "    <tr>\n",
       "      <th>4</th>\n",
       "      <td>403413</td>\n",
       "      <td>jpg</td>\n",
       "      <td>Spiced Baked Apples</td>\n",
       "      <td>45</td>\n",
       "      <td>2</td>\n",
       "      <td>http://www.tasteofhome.com/Recipes/spiced-bake...</td>\n",
       "      <td>14.610390</td>\n",
       "    </tr>\n",
       "    <tr>\n",
       "      <th>5</th>\n",
       "      <td>586610</td>\n",
       "      <td>jpg</td>\n",
       "      <td>Vanilla Spiced Apples</td>\n",
       "      <td>35</td>\n",
       "      <td>8</td>\n",
       "      <td>http://www.nutmegnanny.com/2011/05/02/vanilla-...</td>\n",
       "      <td>11.363636</td>\n",
       "    </tr>\n",
       "    <tr>\n",
       "      <th>6</th>\n",
       "      <td>930836</td>\n",
       "      <td>jpeg</td>\n",
       "      <td>Spiced Chicken with Apples</td>\n",
       "      <td>40</td>\n",
       "      <td>4</td>\n",
       "      <td>http://www.foodnetwork.com/recipes/food-networ...</td>\n",
       "      <td>12.987013</td>\n",
       "    </tr>\n",
       "    <tr>\n",
       "      <th>7</th>\n",
       "      <td>151791</td>\n",
       "      <td>jpg</td>\n",
       "      <td>Spiced Waffles with Caramelized Apples</td>\n",
       "      <td>45</td>\n",
       "      <td>4</td>\n",
       "      <td>http://www.epicurious.com/recipes/food/views/S...</td>\n",
       "      <td>14.610390</td>\n",
       "    </tr>\n",
       "  </tbody>\n",
       "</table>\n",
       "</div>"
      ],
      "text/plain": [
       "       id imageType                                   title  readyInMinutes  \\\n",
       "0  456541       jpg                           Spiced Apples              45   \n",
       "1  403407       jpg                    Glazed Spiced Apples              25   \n",
       "2   48263       jpg                 Chicken & Spiced Apples              35   \n",
       "3  313917      jpeg               Spiced Apples and Raisins              38   \n",
       "4  403413       jpg                     Spiced Baked Apples              45   \n",
       "5  586610       jpg                   Vanilla Spiced Apples              35   \n",
       "6  930836      jpeg              Spiced Chicken with Apples              40   \n",
       "7  151791       jpg  Spiced Waffles with Caramelized Apples              45   \n",
       "\n",
       "   servings                                          sourceUrl  \\\n",
       "0         8        http://allrecipes.com/Recipe/Spiced-Apples/   \n",
       "1        10  http://www.tasteofhome.com/recipes/glazed-spic...   \n",
       "2         6  http://www.eatingwell.com/recipes/chicken_spic...   \n",
       "3         4  http://www.foodnetwork.com/recipes/tyler-flore...   \n",
       "4         2  http://www.tasteofhome.com/Recipes/spiced-bake...   \n",
       "5         8  http://www.nutmegnanny.com/2011/05/02/vanilla-...   \n",
       "6         4  http://www.foodnetwork.com/recipes/food-networ...   \n",
       "7         4  http://www.epicurious.com/recipes/food/views/S...   \n",
       "\n",
       "   readyInMinutes_perc  \n",
       "0            14.610390  \n",
       "1             8.116883  \n",
       "2            11.363636  \n",
       "3            12.337662  \n",
       "4            14.610390  \n",
       "5            11.363636  \n",
       "6            12.987013  \n",
       "7            14.610390  "
      ]
     },
     "execution_count": 5,
     "metadata": {},
     "output_type": "execute_result"
    }
   ],
   "source": [
    "df[\"readyInMinutes_perc\"] = (df[\"readyInMinutes\"] / df[\"readyInMinutes\"].sum()) * 100\n",
    "df"
   ]
  },
  {
   "attachments": {},
   "cell_type": "markdown",
   "metadata": {},
   "source": [
    "Visualicemos lo anterior mediante un gráfico circular."
   ]
  },
  {
   "cell_type": "code",
   "execution_count": 8,
   "metadata": {},
   "outputs": [
    {
     "data": {
      "image/png": "[encoded data removed]",
      "text/plain": [
       "<Figure size 432x288 with 1 Axes>"
      ]
     },
     "metadata": {},
     "output_type": "display_data"
    }
   ],
   "source": [
    "tiempo_coccion_plt = list(df[\"title\"])\n",
    "# Declarar el tamaño de cada 'rebanada' y en sumatoria todos deben dar al 100%\n",
    "sizes = list(df[\"readyInMinutes_perc\"])\n",
    "# En este punto señalamos qué posición debe 'resaltarse' y el valor, si se coloca 0, se omite\n",
    "explode = (0.1, 0, 0, 0, 0.1, 0, 0, 0.1)  \n",
    "# Generar el marco de subploteos\n",
    "fig1, ax1 = plt.subplots()\n",
    "# Crear el gráfico, añadiendo los valores\n",
    "ax1.pie(sizes, explode=explode, labels=tiempo_coccion_plt, autopct='%1.1f%%', shadow=True, startangle=90)\n",
    "#señalamos la forma, en este caso 'equal' es para dar forma circular\n",
    "ax1.axis('equal')\n",
    "plt.title(\"Figura 1: Tiempo de cocción de recetas similares a XXXX\")\n",
    "plt.annotate('Nota: Elaboración propia', (0,0), (0, -40), xycoords='axes fraction', textcoords='offset points', va='top')\n",
    "# plt.legend()\n",
    "plt.show()"
   ]
  },
  {
   "attachments": {},
   "cell_type": "markdown",
   "metadata": {},
   "source": [
    "Ahora, visualicemos que receta similar a XXXX brinda una mayor cantidad de porciones."
   ]
  },
  {
   "cell_type": "code",
   "execution_count": null,
   "metadata": {},
   "outputs": [],
   "source": [
    "plt.bar(list(df[\"title\"]), list(df[\"servings\"]))\n",
    "plt.xlabel('Año de publicación')\n",
    "plt.ylabel('Número de tesis')\n",
    "plt.title('Figura 1: 2013-2022: Tesis producidas por año, UNSA')\n",
    "plt.annotate('Nota: Elaboración propia', (0,0), (0, -40), xycoords='axes fraction', textcoords='offset points', va='top')\n",
    "plt.show()"
   ]
  },
  {
   "attachments": {},
   "cell_type": "markdown",
   "metadata": {},
   "source": [
    "Debido a que no se cuenta con mayor información de cada una de las "
   ]
  },
  {
   "cell_type": "code",
   "execution_count": null,
   "metadata": {},
   "outputs": [],
   "source": [
    "id=df[\"id\"]\n",
    "id"
   ]
  },
  {
   "cell_type": "code",
   "execution_count": null,
   "metadata": {},
   "outputs": [],
   "source": [
    "\n",
    "df_list = []\n",
    "\n",
    "for ids in id:\n",
    "    url = f\"https://api.spoonacular.com/recipes/{ids}/nutritionWidget.json\"\n",
    "    query_params = {\"apiKey\": api_key}\n",
    "    response = requests.get(url, params=query_params).json()\n",
    "    df = pd.DataFrame(response[\"bad\"])\n",
    "    # agrega una columna \"id\" al DataFrame con el valor del identificador actual\n",
    "    df[\"id\"] = ids\n",
    "    df_list.append(df)\n",
    "\n",
    "result_df = pd.concat(df_list)\n",
    "# resetea los índices en el DataFrame resultante\n",
    "result_df.reset_index(drop=True, inplace=True)"
   ]
  },
  {
   "cell_type": "code",
   "execution_count": null,
   "metadata": {},
   "outputs": [],
   "source": [
    "result_df\n"
   ]
  }
 ],
 "metadata": {
  "kernelspec": {
   "display_name": "base",
   "language": "python",
   "name": "python3"
  },
  "language_info": {
   "codemirror_mode": {
    "name": "ipython",
    "version": 3
   },
   "file_extension": ".py",
   "mimetype": "text/x-python",
   "name": "python",
   "nbconvert_exporter": "python",
   "pygments_lexer": "ipython3",
   "version": "3.9.12"
  },
  "vscode": {
   "interpreter": {
    "hash": "eec1c590e2f34e9a299b6d726f651d02256ffc6f526c72002153c3ef3807bbd4"
   }
  }
 },
 "nbformat": 4,
 "nbformat_minor": 2
}
