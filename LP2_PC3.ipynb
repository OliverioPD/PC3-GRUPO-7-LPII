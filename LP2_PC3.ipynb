{
 "cells": [
  {
   "cell_type": "markdown",
   "metadata": {},
   "source": [
    "<h1 style=\"text-align: center\">\n",
    "<strong>UNALM: PRÁCTICA CALIFICADA 3</strong>\n",
    "</h1>\n",
    "\n",
    "**Integrantes:**\n",
    "1. Pichardo Diestra, Oliverio\n",
    "2. Ortiz Arone, Víctor Alejandro\n",
    "3. Llamoca León, Israel"
   ]
  },
  {
   "cell_type": "code",
   "execution_count": 2,
   "metadata": {},
   "outputs": [],
   "source": [
    "# Tu clave de API de Spoonacular\n",
    "api_key = \"1a60313c31a84c6d80a50e336bd18421\""
   ]
  },
  {
   "cell_type": "code",
   "execution_count": 6,
   "metadata": {},
   "outputs": [
    {
     "data": {
      "text/plain": [
       "[{'id': 456541,\n",
       "  'imageType': 'jpg',\n",
       "  'title': 'Spiced Apples',\n",
       "  'readyInMinutes': 45,\n",
       "  'servings': 8,\n",
       "  'sourceUrl': 'http://allrecipes.com/Recipe/Spiced-Apples/'},\n",
       " {'id': 403407,\n",
       "  'imageType': 'jpg',\n",
       "  'title': 'Glazed Spiced Apples',\n",
       "  'readyInMinutes': 25,\n",
       "  'servings': 10,\n",
       "  'sourceUrl': 'http://www.tasteofhome.com/recipes/glazed-spiced-apples'},\n",
       " {'id': 48263,\n",
       "  'imageType': 'jpg',\n",
       "  'title': 'Chicken & Spiced Apples',\n",
       "  'readyInMinutes': 35,\n",
       "  'servings': 6,\n",
       "  'sourceUrl': 'http://www.eatingwell.com/recipes/chicken_spiced_apples.html'},\n",
       " {'id': 313917,\n",
       "  'imageType': 'jpeg',\n",
       "  'title': 'Spiced Apples and Raisins',\n",
       "  'readyInMinutes': 38,\n",
       "  'servings': 4,\n",
       "  'sourceUrl': 'http://www.foodnetwork.com/recipes/tyler-florence/spiced-apples-and-raisins-recipe.html'},\n",
       " {'id': 403413,\n",
       "  'imageType': 'jpg',\n",
       "  'title': 'Spiced Baked Apples',\n",
       "  'readyInMinutes': 45,\n",
       "  'servings': 2,\n",
       "  'sourceUrl': 'http://www.tasteofhome.com/Recipes/spiced-baked-apples'},\n",
       " {'id': 586610,\n",
       "  'imageType': 'jpg',\n",
       "  'title': 'Vanilla Spiced Apples',\n",
       "  'readyInMinutes': 35,\n",
       "  'servings': 8,\n",
       "  'sourceUrl': 'http://www.nutmegnanny.com/2011/05/02/vanilla-spiced-apples/'},\n",
       " {'id': 930836,\n",
       "  'imageType': 'jpeg',\n",
       "  'title': 'Spiced Chicken with Apples',\n",
       "  'readyInMinutes': 40,\n",
       "  'servings': 4,\n",
       "  'sourceUrl': 'http://www.foodnetwork.com/recipes/food-network-kitchen/spiced-chicken-with-apples-3363966'},\n",
       " {'id': 151791,\n",
       "  'imageType': 'jpg',\n",
       "  'title': 'Spiced Waffles with Caramelized Apples',\n",
       "  'readyInMinutes': 45,\n",
       "  'servings': 4,\n",
       "  'sourceUrl': 'http://www.epicurious.com/recipes/food/views/Spiced-Waffles-with-Caramelized-Apples-234132'}]"
      ]
     },
     "execution_count": 6,
     "metadata": {},
     "output_type": "execute_result"
    }
   ],
   "source": [
    "import requests\n",
    "# ID de la receta a la que quieres encontrar recetas similares\n",
    "recipe_id = 47746\n",
    "\n",
    "# Realizar una llamada a la API para obtener recetas similares\n",
    "url = f\"https://api.spoonacular.com/recipes/{recipe_id}/similar\"\n",
    "query_params = {\"apiKey\": api_key}\n",
    "response = requests.get(url, params=query_params).json()\n",
    "\n",
    "response"
   ]
  },
  {
   "cell_type": "code",
   "execution_count": null,
   "metadata": {},
   "outputs": [],
   "source": [
    "import pandas as pd\n"
   ]
  },
  {
   "cell_type": "code",
   "execution_count": null,
   "metadata": {},
   "outputs": [],
   "source": []
  }
 ],
 "metadata": {
  "kernelspec": {
   "display_name": "Python 3 (ipykernel)",
   "language": "python",
   "name": "python3"
  },
  "language_info": {
   "codemirror_mode": {
    "name": "ipython",
    "version": 3
   },
   "file_extension": ".py",
   "mimetype": "text/x-python",
   "name": "python",
   "nbconvert_exporter": "python",
   "pygments_lexer": "ipython3",
   "version": "3.9.12"
  },
  "vscode": {
   "interpreter": {
    "hash": "d5df2bbc9074bc7b86f029b01b4b6c677caf98f9d22ebc6f989a43f921d559b4"
   }
  }
 },
 "nbformat": 4,
 "nbformat_minor": 2
}
