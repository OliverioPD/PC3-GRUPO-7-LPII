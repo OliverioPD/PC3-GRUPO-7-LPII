{
 "cells": [
  {
   "attachments": {},
   "cell_type": "markdown",
   "metadata": {},
   "source": [
    "<h1 style=\"text-align: center\">\n",
    "<strong>UNALM: PRÁCTICA CALIFICADA 3</strong>\n",
    "</h1>\n",
    "\n",
    "**Integrantes:**\n",
    "1. Pichardo Diestra, Oliverio\n",
    "2. Ortiz Arone, Víctor Alejandro\n",
    "3. Llamoca León, Israel"
   ]
  }
 ],
 "metadata": {
  "kernelspec": {
   "display_name": "Python 3",
   "language": "python",
   "name": "python3"
  },
  "language_info": {
   "name": "python",
   "version": "3.10.4 (tags/v3.10.4:9d38120, Mar 23 2022, 23:13:41) [MSC v.1929 64 bit (AMD64)]"
  },
  "orig_nbformat": 4,
  "vscode": {
   "interpreter": {
    "hash": "d5df2bbc9074bc7b86f029b01b4b6c677caf98f9d22ebc6f989a43f921d559b4"
   }
  }
 },
 "nbformat": 4,
 "nbformat_minor": 2
}
