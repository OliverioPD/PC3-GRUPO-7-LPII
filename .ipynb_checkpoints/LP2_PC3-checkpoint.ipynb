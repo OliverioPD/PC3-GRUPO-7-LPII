{
 "cells": [
  {
   "cell_type": "markdown",
   "metadata": {},
   "source": [
    "<h1 style=\"text-align: center\">\n",
    "<strong>UNALM: PRÁCTICA CALIFICADA 3</strong>\n",
    "</h1>\n",
    "\n",
    "**Integrantes:**\n",
    "1. Pichardo Diestra, Oliverio\n",
    "2. Ortiz Arone, Víctor Alejandro\n",
    "3. Llamoca León, Israel"
   ]
  },
  {
   "cell_type": "code",
   "execution_count": null,
   "metadata": {},
   "outputs": [],
   "source": [
    "# Tu clave de API de Spoonacular\n",
    "api_key = \"1a60313c31a84c6d80a50e336bd18421\""
   ]
  }
 ],
 "metadata": {
  "kernelspec": {
   "display_name": "Python 3 (ipykernel)",
   "language": "python",
   "name": "python3"
  },
  "language_info": {
   "codemirror_mode": {
    "name": "ipython",
    "version": 3
   },
   "file_extension": ".py",
   "mimetype": "text/x-python",
   "name": "python",
   "nbconvert_exporter": "python",
   "pygments_lexer": "ipython3",
   "version": "3.9.12"
  },
  "vscode": {
   "interpreter": {
    "hash": "d5df2bbc9074bc7b86f029b01b4b6c677caf98f9d22ebc6f989a43f921d559b4"
   }
  }
 },
 "nbformat": 4,
 "nbformat_minor": 2
}
